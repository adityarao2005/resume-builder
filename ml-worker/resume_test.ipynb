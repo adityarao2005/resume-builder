{
 "cells": [
  {
   "cell_type": "markdown",
   "metadata": {
    "id": "AseSJWqnP-uh"
   },
   "source": [
    "# Install all the dependencies\n",
    "\n",
    "Dependencies:\n",
    "*   google.generativeai\n",
    "*   langchain\n",
    "*   pydantic\n",
    "*   langchain_openai\n",
    "*   langchain-google-genai\n",
    "\n",
    "\n",
    "\n"
   ]
  },
  {
   "cell_type": "code",
   "execution_count": 1,
   "metadata": {
    "colab": {
     "base_uri": "https://localhost:8080/",
     "height": 0
    },
    "id": "afwJP2DXwxTv",
    "outputId": "befb8197-df9a-4b41-9304-167b906af2e3"
   },
   "outputs": [
    {
     "name": "stdout",
     "output_type": "stream",
     "text": [
      "Requirement already satisfied: google.generativeai in /usr/local/lib/python3.10/dist-packages (0.7.2)\n",
      "Collecting langchain\n",
      "  Downloading langchain-0.3.7-py3-none-any.whl.metadata (7.1 kB)\n",
      "Requirement already satisfied: pydantic in /usr/local/lib/python3.10/dist-packages (2.9.2)\n",
      "Collecting langchain_openai\n",
      "  Downloading langchain_openai-0.2.6-py3-none-any.whl.metadata (2.6 kB)\n",
      "Collecting langchain-google-genai\n",
      "  Downloading langchain_google_genai-2.0.4-py3-none-any.whl.metadata (3.8 kB)\n",
      "Requirement already satisfied: google-ai-generativelanguage==0.6.6 in /usr/local/lib/python3.10/dist-packages (from google.generativeai) (0.6.6)\n",
      "Requirement already satisfied: google-api-core in /usr/local/lib/python3.10/dist-packages (from google.generativeai) (2.19.2)\n",
      "Requirement already satisfied: google-api-python-client in /usr/local/lib/python3.10/dist-packages (from google.generativeai) (2.137.0)\n",
      "Requirement already satisfied: google-auth>=2.15.0 in /usr/local/lib/python3.10/dist-packages (from google.generativeai) (2.27.0)\n",
      "Requirement already satisfied: protobuf in /usr/local/lib/python3.10/dist-packages (from google.generativeai) (3.20.3)\n",
      "Requirement already satisfied: tqdm in /usr/local/lib/python3.10/dist-packages (from google.generativeai) (4.66.5)\n",
      "Requirement already satisfied: typing-extensions in /usr/local/lib/python3.10/dist-packages (from google.generativeai) (4.12.2)\n",
      "Requirement already satisfied: proto-plus<2.0.0dev,>=1.22.3 in /usr/local/lib/python3.10/dist-packages (from google-ai-generativelanguage==0.6.6->google.generativeai) (1.24.0)\n",
      "Requirement already satisfied: PyYAML>=5.3 in /usr/local/lib/python3.10/dist-packages (from langchain) (6.0.2)\n",
      "Requirement already satisfied: SQLAlchemy<3,>=1.4 in /usr/local/lib/python3.10/dist-packages (from langchain) (2.0.35)\n",
      "Requirement already satisfied: aiohttp<4.0.0,>=3.8.3 in /usr/local/lib/python3.10/dist-packages (from langchain) (3.10.5)\n",
      "Requirement already satisfied: async-timeout<5.0.0,>=4.0.0 in /usr/local/lib/python3.10/dist-packages (from langchain) (4.0.3)\n",
      "Collecting langchain-core<0.4.0,>=0.3.15 (from langchain)\n",
      "  Downloading langchain_core-0.3.15-py3-none-any.whl.metadata (6.3 kB)\n",
      "Collecting langchain-text-splitters<0.4.0,>=0.3.0 (from langchain)\n",
      "  Downloading langchain_text_splitters-0.3.2-py3-none-any.whl.metadata (2.3 kB)\n",
      "Collecting langsmith<0.2.0,>=0.1.17 (from langchain)\n",
      "  Downloading langsmith-0.1.142-py3-none-any.whl.metadata (13 kB)\n",
      "Requirement already satisfied: numpy<2,>=1 in /usr/local/lib/python3.10/dist-packages (from langchain) (1.26.4)\n",
      "Requirement already satisfied: requests<3,>=2 in /usr/local/lib/python3.10/dist-packages (from langchain) (2.32.3)\n",
      "Requirement already satisfied: tenacity!=8.4.0,<10,>=8.1.0 in /usr/local/lib/python3.10/dist-packages (from langchain) (9.0.0)\n",
      "Requirement already satisfied: annotated-types>=0.6.0 in /usr/local/lib/python3.10/dist-packages (from pydantic) (0.7.0)\n",
      "Requirement already satisfied: pydantic-core==2.23.4 in /usr/local/lib/python3.10/dist-packages (from pydantic) (2.23.4)\n",
      "Collecting openai<2.0.0,>=1.54.0 (from langchain_openai)\n",
      "  Downloading openai-1.54.3-py3-none-any.whl.metadata (24 kB)\n",
      "Collecting tiktoken<1,>=0.7 (from langchain_openai)\n",
      "  Downloading tiktoken-0.8.0-cp310-cp310-manylinux_2_17_x86_64.manylinux2014_x86_64.whl.metadata (6.6 kB)\n",
      "Collecting google.generativeai\n",
      "  Downloading google_generativeai-0.8.3-py3-none-any.whl.metadata (3.9 kB)\n",
      "Collecting google-ai-generativelanguage==0.6.10 (from google.generativeai)\n",
      "  Downloading google_ai_generativelanguage-0.6.10-py3-none-any.whl.metadata (5.6 kB)\n",
      "Requirement already satisfied: aiohappyeyeballs>=2.3.0 in /usr/local/lib/python3.10/dist-packages (from aiohttp<4.0.0,>=3.8.3->langchain) (2.4.0)\n",
      "Requirement already satisfied: aiosignal>=1.1.2 in /usr/local/lib/python3.10/dist-packages (from aiohttp<4.0.0,>=3.8.3->langchain) (1.3.1)\n",
      "Requirement already satisfied: attrs>=17.3.0 in /usr/local/lib/python3.10/dist-packages (from aiohttp<4.0.0,>=3.8.3->langchain) (24.2.0)\n",
      "Requirement already satisfied: frozenlist>=1.1.1 in /usr/local/lib/python3.10/dist-packages (from aiohttp<4.0.0,>=3.8.3->langchain) (1.4.1)\n",
      "Requirement already satisfied: multidict<7.0,>=4.5 in /usr/local/lib/python3.10/dist-packages (from aiohttp<4.0.0,>=3.8.3->langchain) (6.1.0)\n",
      "Requirement already satisfied: yarl<2.0,>=1.0 in /usr/local/lib/python3.10/dist-packages (from aiohttp<4.0.0,>=3.8.3->langchain) (1.11.1)\n",
      "Requirement already satisfied: googleapis-common-protos<2.0.dev0,>=1.56.2 in /usr/local/lib/python3.10/dist-packages (from google-api-core->google.generativeai) (1.65.0)\n",
      "Requirement already satisfied: cachetools<6.0,>=2.0.0 in /usr/local/lib/python3.10/dist-packages (from google-auth>=2.15.0->google.generativeai) (5.5.0)\n",
      "Requirement already satisfied: pyasn1-modules>=0.2.1 in /usr/local/lib/python3.10/dist-packages (from google-auth>=2.15.0->google.generativeai) (0.4.1)\n",
      "Requirement already satisfied: rsa<5,>=3.1.4 in /usr/local/lib/python3.10/dist-packages (from google-auth>=2.15.0->google.generativeai) (4.9)\n",
      "Collecting jsonpatch<2.0,>=1.33 (from langchain-core<0.4.0,>=0.3.15->langchain)\n",
      "  Downloading jsonpatch-1.33-py2.py3-none-any.whl.metadata (3.0 kB)\n",
      "Requirement already satisfied: packaging<25,>=23.2 in /usr/local/lib/python3.10/dist-packages (from langchain-core<0.4.0,>=0.3.15->langchain) (24.1)\n",
      "Collecting httpx<1,>=0.23.0 (from langsmith<0.2.0,>=0.1.17->langchain)\n",
      "  Downloading httpx-0.27.2-py3-none-any.whl.metadata (7.1 kB)\n",
      "Collecting orjson<4.0.0,>=3.9.14 (from langsmith<0.2.0,>=0.1.17->langchain)\n",
      "  Downloading orjson-3.10.11-cp310-cp310-manylinux_2_17_x86_64.manylinux2014_x86_64.whl.metadata (50 kB)\n",
      "\u001b[2K     \u001b[90m━━━━━━━━━━━━━━━━━━━━━━━━━━━━━━━━━━━━━━━━\u001b[0m \u001b[32m50.8/50.8 kB\u001b[0m \u001b[31m3.1 MB/s\u001b[0m eta \u001b[36m0:00:00\u001b[0m\n",
      "\u001b[?25hCollecting requests-toolbelt<2.0.0,>=1.0.0 (from langsmith<0.2.0,>=0.1.17->langchain)\n",
      "  Downloading requests_toolbelt-1.0.0-py2.py3-none-any.whl.metadata (14 kB)\n",
      "Requirement already satisfied: anyio<5,>=3.5.0 in /usr/local/lib/python3.10/dist-packages (from openai<2.0.0,>=1.54.0->langchain_openai) (3.7.1)\n",
      "Requirement already satisfied: distro<2,>=1.7.0 in /usr/lib/python3/dist-packages (from openai<2.0.0,>=1.54.0->langchain_openai) (1.7.0)\n",
      "Collecting jiter<1,>=0.4.0 (from openai<2.0.0,>=1.54.0->langchain_openai)\n",
      "  Downloading jiter-0.7.0-cp310-cp310-manylinux_2_17_x86_64.manylinux2014_x86_64.whl.metadata (5.2 kB)\n",
      "Requirement already satisfied: sniffio in /usr/local/lib/python3.10/dist-packages (from openai<2.0.0,>=1.54.0->langchain_openai) (1.3.1)\n",
      "Requirement already satisfied: charset-normalizer<4,>=2 in /usr/local/lib/python3.10/dist-packages (from requests<3,>=2->langchain) (3.3.2)\n",
      "Requirement already satisfied: idna<4,>=2.5 in /usr/local/lib/python3.10/dist-packages (from requests<3,>=2->langchain) (3.10)\n",
      "Requirement already satisfied: urllib3<3,>=1.21.1 in /usr/local/lib/python3.10/dist-packages (from requests<3,>=2->langchain) (2.2.3)\n",
      "Requirement already satisfied: certifi>=2017.4.17 in /usr/local/lib/python3.10/dist-packages (from requests<3,>=2->langchain) (2024.8.30)\n",
      "Requirement already satisfied: greenlet!=0.4.17 in /usr/local/lib/python3.10/dist-packages (from SQLAlchemy<3,>=1.4->langchain) (3.1.0)\n",
      "Requirement already satisfied: regex>=2022.1.18 in /usr/local/lib/python3.10/dist-packages (from tiktoken<1,>=0.7->langchain_openai) (2024.9.11)\n",
      "Requirement already satisfied: httplib2<1.dev0,>=0.19.0 in /usr/local/lib/python3.10/dist-packages (from google-api-python-client->google.generativeai) (0.22.0)\n",
      "Requirement already satisfied: google-auth-httplib2<1.0.0,>=0.2.0 in /usr/local/lib/python3.10/dist-packages (from google-api-python-client->google.generativeai) (0.2.0)\n",
      "Requirement already satisfied: uritemplate<5,>=3.0.1 in /usr/local/lib/python3.10/dist-packages (from google-api-python-client->google.generativeai) (4.1.1)\n",
      "Requirement already satisfied: exceptiongroup in /usr/local/lib/python3.10/dist-packages (from anyio<5,>=3.5.0->openai<2.0.0,>=1.54.0->langchain_openai) (1.2.2)\n",
      "Requirement already satisfied: grpcio<2.0dev,>=1.33.2 in /usr/local/lib/python3.10/dist-packages (from google-api-core[grpc]!=2.0.*,!=2.1.*,!=2.10.*,!=2.2.*,!=2.3.*,!=2.4.*,!=2.5.*,!=2.6.*,!=2.7.*,!=2.8.*,!=2.9.*,<3.0.0dev,>=1.34.1->google-ai-generativelanguage==0.6.6->google.generativeai) (1.64.1)\n",
      "Requirement already satisfied: grpcio-status<2.0.dev0,>=1.33.2 in /usr/local/lib/python3.10/dist-packages (from google-api-core[grpc]!=2.0.*,!=2.1.*,!=2.10.*,!=2.2.*,!=2.3.*,!=2.4.*,!=2.5.*,!=2.6.*,!=2.7.*,!=2.8.*,!=2.9.*,<3.0.0dev,>=1.34.1->google-ai-generativelanguage==0.6.6->google.generativeai) (1.48.2)\n",
      "Requirement already satisfied: pyparsing!=3.0.0,!=3.0.1,!=3.0.2,!=3.0.3,<4,>=2.4.2 in /usr/local/lib/python3.10/dist-packages (from httplib2<1.dev0,>=0.19.0->google-api-python-client->google.generativeai) (3.1.4)\n",
      "Collecting httpcore==1.* (from httpx<1,>=0.23.0->langsmith<0.2.0,>=0.1.17->langchain)\n",
      "  Downloading httpcore-1.0.6-py3-none-any.whl.metadata (21 kB)\n",
      "Collecting h11<0.15,>=0.13 (from httpcore==1.*->httpx<1,>=0.23.0->langsmith<0.2.0,>=0.1.17->langchain)\n",
      "  Downloading h11-0.14.0-py3-none-any.whl.metadata (8.2 kB)\n",
      "Collecting jsonpointer>=1.9 (from jsonpatch<2.0,>=1.33->langchain-core<0.4.0,>=0.3.15->langchain)\n",
      "  Downloading jsonpointer-3.0.0-py2.py3-none-any.whl.metadata (2.3 kB)\n",
      "Requirement already satisfied: pyasn1<0.7.0,>=0.4.6 in /usr/local/lib/python3.10/dist-packages (from pyasn1-modules>=0.2.1->google-auth>=2.15.0->google.generativeai) (0.6.1)\n",
      "Downloading langchain-0.3.7-py3-none-any.whl (1.0 MB)\n",
      "\u001b[2K   \u001b[90m━━━━━━━━━━━━━━━━━━━━━━━━━━━━━━━━━━━━━━━━\u001b[0m \u001b[32m1.0/1.0 MB\u001b[0m \u001b[31m21.7 MB/s\u001b[0m eta \u001b[36m0:00:00\u001b[0m\n",
      "\u001b[?25hDownloading langchain_openai-0.2.6-py3-none-any.whl (50 kB)\n",
      "\u001b[2K   \u001b[90m━━━━━━━━━━━━━━━━━━━━━━━━━━━━━━━━━━━━━━━━\u001b[0m \u001b[32m50.4/50.4 kB\u001b[0m \u001b[31m3.4 MB/s\u001b[0m eta \u001b[36m0:00:00\u001b[0m\n",
      "\u001b[?25hDownloading langchain_google_genai-2.0.4-py3-none-any.whl (41 kB)\n",
      "\u001b[2K   \u001b[90m━━━━━━━━━━━━━━━━━━━━━━━━━━━━━━━━━━━━━━━━\u001b[0m \u001b[32m41.8/41.8 kB\u001b[0m \u001b[31m2.4 MB/s\u001b[0m eta \u001b[36m0:00:00\u001b[0m\n",
      "\u001b[?25hDownloading google_generativeai-0.8.3-py3-none-any.whl (160 kB)\n",
      "\u001b[2K   \u001b[90m━━━━━━━━━━━━━━━━━━━━━━━━━━━━━━━━━━━━━━━━\u001b[0m \u001b[32m160.8/160.8 kB\u001b[0m \u001b[31m11.9 MB/s\u001b[0m eta \u001b[36m0:00:00\u001b[0m\n",
      "\u001b[?25hDownloading google_ai_generativelanguage-0.6.10-py3-none-any.whl (760 kB)\n",
      "\u001b[2K   \u001b[90m━━━━━━━━━━━━━━━━━━━━━━━━━━━━━━━━━━━━━━━━\u001b[0m \u001b[32m760.0/760.0 kB\u001b[0m \u001b[31m32.6 MB/s\u001b[0m eta \u001b[36m0:00:00\u001b[0m\n",
      "\u001b[?25hDownloading langchain_core-0.3.15-py3-none-any.whl (408 kB)\n",
      "\u001b[2K   \u001b[90m━━━━━━━━━━━━━━━━━━━━━━━━━━━━━━━━━━━━━━━━\u001b[0m \u001b[32m408.7/408.7 kB\u001b[0m \u001b[31m25.2 MB/s\u001b[0m eta \u001b[36m0:00:00\u001b[0m\n",
      "\u001b[?25hDownloading langchain_text_splitters-0.3.2-py3-none-any.whl (25 kB)\n",
      "Downloading langsmith-0.1.142-py3-none-any.whl (306 kB)\n",
      "\u001b[2K   \u001b[90m━━━━━━━━━━━━━━━━━━━━━━━━━━━━━━━━━━━━━━━━\u001b[0m \u001b[32m306.7/306.7 kB\u001b[0m \u001b[31m21.7 MB/s\u001b[0m eta \u001b[36m0:00:00\u001b[0m\n",
      "\u001b[?25hDownloading openai-1.54.3-py3-none-any.whl (389 kB)\n",
      "\u001b[2K   \u001b[90m━━━━━━━━━━━━━━━━━━━━━━━━━━━━━━━━━━━━━━━━\u001b[0m \u001b[32m389.6/389.6 kB\u001b[0m \u001b[31m25.3 MB/s\u001b[0m eta \u001b[36m0:00:00\u001b[0m\n",
      "\u001b[?25hDownloading tiktoken-0.8.0-cp310-cp310-manylinux_2_17_x86_64.manylinux2014_x86_64.whl (1.2 MB)\n",
      "\u001b[2K   \u001b[90m━━━━━━━━━━━━━━━━━━━━━━━━━━━━━━━━━━━━━━━━\u001b[0m \u001b[32m1.2/1.2 MB\u001b[0m \u001b[31m50.4 MB/s\u001b[0m eta \u001b[36m0:00:00\u001b[0m\n",
      "\u001b[?25hDownloading httpx-0.27.2-py3-none-any.whl (76 kB)\n",
      "\u001b[2K   \u001b[90m━━━━━━━━━━━━━━━━━━━━━━━━━━━━━━━━━━━━━━━━\u001b[0m \u001b[32m76.4/76.4 kB\u001b[0m \u001b[31m5.1 MB/s\u001b[0m eta \u001b[36m0:00:00\u001b[0m\n",
      "\u001b[?25hDownloading httpcore-1.0.6-py3-none-any.whl (78 kB)\n",
      "\u001b[2K   \u001b[90m━━━━━━━━━━━━━━━━━━━━━━━━━━━━━━━━━━━━━━━━\u001b[0m \u001b[32m78.0/78.0 kB\u001b[0m \u001b[31m5.5 MB/s\u001b[0m eta \u001b[36m0:00:00\u001b[0m\n",
      "\u001b[?25hDownloading jiter-0.7.0-cp310-cp310-manylinux_2_17_x86_64.manylinux2014_x86_64.whl (327 kB)\n",
      "\u001b[2K   \u001b[90m━━━━━━━━━━━━━━━━━━━━━━━━━━━━━━━━━━━━━━━━\u001b[0m \u001b[32m327.5/327.5 kB\u001b[0m \u001b[31m19.4 MB/s\u001b[0m eta \u001b[36m0:00:00\u001b[0m\n",
      "\u001b[?25hDownloading jsonpatch-1.33-py2.py3-none-any.whl (12 kB)\n",
      "Downloading orjson-3.10.11-cp310-cp310-manylinux_2_17_x86_64.manylinux2014_x86_64.whl (142 kB)\n",
      "\u001b[2K   \u001b[90m━━━━━━━━━━━━━━━━━━━━━━━━━━━━━━━━━━━━━━━━\u001b[0m \u001b[32m142.5/142.5 kB\u001b[0m \u001b[31m8.4 MB/s\u001b[0m eta \u001b[36m0:00:00\u001b[0m\n",
      "\u001b[?25hDownloading requests_toolbelt-1.0.0-py2.py3-none-any.whl (54 kB)\n",
      "\u001b[2K   \u001b[90m━━━━━━━━━━━━━━━━━━━━━━━━━━━━━━━━━━━━━━━━\u001b[0m \u001b[32m54.5/54.5 kB\u001b[0m \u001b[31m3.4 MB/s\u001b[0m eta \u001b[36m0:00:00\u001b[0m\n",
      "\u001b[?25hDownloading jsonpointer-3.0.0-py2.py3-none-any.whl (7.6 kB)\n",
      "Downloading h11-0.14.0-py3-none-any.whl (58 kB)\n",
      "\u001b[2K   \u001b[90m━━━━━━━━━━━━━━━━━━━━━━━━━━━━━━━━━━━━━━━━\u001b[0m \u001b[32m58.3/58.3 kB\u001b[0m \u001b[31m4.0 MB/s\u001b[0m eta \u001b[36m0:00:00\u001b[0m\n",
      "\u001b[?25hInstalling collected packages: orjson, jsonpointer, jiter, h11, tiktoken, requests-toolbelt, jsonpatch, httpcore, httpx, openai, langsmith, langchain-core, google-ai-generativelanguage, langchain-text-splitters, langchain_openai, google.generativeai, langchain-google-genai, langchain\n",
      "  Attempting uninstall: google-ai-generativelanguage\n",
      "    Found existing installation: google-ai-generativelanguage 0.6.6\n",
      "    Uninstalling google-ai-generativelanguage-0.6.6:\n",
      "      Successfully uninstalled google-ai-generativelanguage-0.6.6\n",
      "  Attempting uninstall: google.generativeai\n",
      "    Found existing installation: google-generativeai 0.7.2\n",
      "    Uninstalling google-generativeai-0.7.2:\n",
      "      Successfully uninstalled google-generativeai-0.7.2\n",
      "Successfully installed google-ai-generativelanguage-0.6.10 google.generativeai-0.8.3 h11-0.14.0 httpcore-1.0.6 httpx-0.27.2 jiter-0.7.0 jsonpatch-1.33 jsonpointer-3.0.0 langchain-0.3.7 langchain-core-0.3.15 langchain-google-genai-2.0.4 langchain-text-splitters-0.3.2 langchain_openai-0.2.6 langsmith-0.1.142 openai-1.54.3 orjson-3.10.11 requests-toolbelt-1.0.0 tiktoken-0.8.0\n"
     ]
    },
    {
     "data": {
      "application/vnd.colab-display-data+json": {
       "id": "b4cfac6d6d244974a7e8dd8484873216",
       "pip_warning": {
        "packages": [
         "google"
        ]
       }
      }
     },
     "metadata": {},
     "output_type": "display_data"
    }
   ],
   "source": [
    "!pip install google.generativeai langchain pydantic langchain_openai langchain-google-genai"
   ]
  },
  {
   "cell_type": "markdown",
   "metadata": {
    "id": "BjsrRtXvQWsa"
   },
   "source": [
    "# Add the environmental variable from the colab keys\n",
    "\n",
    "Change this to environment variables when actually implementing this"
   ]
  },
  {
   "cell_type": "code",
   "execution_count": 2,
   "metadata": {
    "id": "k4A9uGcwNpxv"
   },
   "outputs": [],
   "source": [
    "from google.colab import userdata\n",
    "import os\n",
    "\n",
    "os.environ[\"GOOGLE_API_KEY\"] = userdata.get(\"GOOGLE_API_KEY\")"
   ]
  },
  {
   "cell_type": "markdown",
   "metadata": {
    "id": "8WwboNOtamXK"
   },
   "source": [
    "# LLM API\n",
    "\n",
    "This is the llm definition"
   ]
  },
  {
   "cell_type": "code",
   "execution_count": null,
   "metadata": {
    "id": "hltzbJyT393D"
   },
   "outputs": [],
   "source": [
    "from langchain_google_genai import ChatGoogleGenerativeAI\n",
    "\n",
    "llm = ChatGoogleGenerativeAI(\n",
    "    model=\"gemini-1.5-pro\", temperature=0.7, verbose=True\n",
    ")  # Initialize Gemini model"
   ]
  },
  {
   "cell_type": "markdown",
   "metadata": {
    "id": "kTLYkYrAaMUQ"
   },
   "source": [
    "# Joke Model output\n",
    "\n",
    "Testing purposes"
   ]
  },
  {
   "cell_type": "code",
   "execution_count": null,
   "metadata": {
    "id": "_GesqEof31Gh"
   },
   "outputs": [],
   "source": [
    "from pydantic import BaseModel, Field\n",
    "\n",
    "class Joke(BaseModel):\n",
    "    setup: str = Field(description=\"The setup of the joke\")\n",
    "    punchline: str = Field(description=\"The punchline of the joke\")"
   ]
  },
  {
   "cell_type": "code",
   "execution_count": null,
   "metadata": {
    "id": "OQ2XpIOw348H"
   },
   "outputs": [],
   "source": [
    "from langchain.prompts import ChatPromptTemplate, HumanMessagePromptTemplate, SystemMessagePromptTemplate\n",
    "\n",
    "chat_template = ChatPromptTemplate.from_messages(\n",
    "    [\n",
    "        SystemMessagePromptTemplate.from_template(\n",
    "            \"You are a math professor and loves to tell math jokes.\"\n",
    "        ),\n",
    "        HumanMessagePromptTemplate.from_template(\"{input}\"),\n",
    "    ]\n",
    ")"
   ]
  },
  {
   "cell_type": "code",
   "execution_count": null,
   "metadata": {
    "colab": {
     "base_uri": "https://localhost:8080/"
    },
    "id": "kObxTkri4hUi",
    "outputId": "c0109bae-ec9b-47aa-db7b-6afb9a48e68b"
   },
   "outputs": [
    {
     "data": {
      "text/plain": [
       "Joke(setup='', punchline='Why do plants hate math? It gives them square roots.')"
      ]
     },
     "execution_count": 24,
     "metadata": {},
     "output_type": "execute_result"
    }
   ],
   "source": [
    "structured_llm = llm.with_structured_output(Joke)\n",
    "structured_llm.invoke(chat_template.format_prompt(input=\"Tell me a joke\").to_messages())\n"
   ]
  },
  {
   "cell_type": "markdown",
   "metadata": {
    "id": "KYX_oKXQaT55"
   },
   "source": [
    "# Resume report output\n",
    "\n",
    "This is what we are testing"
   ]
  },
  {
   "cell_type": "code",
   "execution_count": 6,
   "metadata": {
    "id": "SxyRL8MGEGqN"
   },
   "outputs": [],
   "source": [
    "from pydantic import BaseModel, Field\n",
    "from typing import List\n",
    "class Report(BaseModel):\n",
    "    score: int = Field(description=\"The score of the report\")\n",
    "    pros: List[str] = Field(description=\"The things which the resume has which is good\")\n",
    "    cons: List[str] = Field(description=\"The things which the resume has which is bad or the things \\\n",
    "     which are good which this resume does not have\")\n",
    "    improvements: List[str] = Field(description=\"The ways to turn what is bad about the resume into a good resume\")"
   ]
  },
  {
   "cell_type": "code",
   "execution_count": 12,
   "metadata": {
    "id": "SxjVlS0ja40L"
   },
   "outputs": [],
   "source": [
    "from langchain.prompts import ChatPromptTemplate, HumanMessagePromptTemplate, SystemMessagePromptTemplate\n",
    "\n",
    "chat_template = ChatPromptTemplate.from_messages(\n",
    "    [\n",
    "        SystemMessagePromptTemplate.from_template(\n",
    "            \"You are a hiring manager looking at resumes which are best suited for a job. \\\n",
    "             The resume and job will be sent as a JSON object where the resume will be in the 'resume' \\\n",
    "             key and the job will be in the 'job' key. You are to give the score of the resume, the pros, the cons and the ways to improve it\"\n",
    "        ),\n",
    "        HumanMessagePromptTemplate.from_template(\"{input}\"),\n",
    "    ]\n",
    ")"
   ]
  },
  {
   "cell_type": "code",
   "execution_count": 15,
   "metadata": {
    "colab": {
     "base_uri": "https://localhost:8080/",
     "height": 157
    },
    "id": "A69rivq9cH8K",
    "outputId": "99ff2ffa-b75c-4b47-e08d-9ef7e124fc06"
   },
   "outputs": [
    {
     "data": {
      "application/vnd.google.colaboratory.intrinsic+json": {
       "type": "string"
      },
      "text/plain": [
       "'{\\n  \"resume\": {\\n    \"name\": \"XXXX\",\\n    \"contactInfo\": {\\n      \"mediaProfiles\": [\\n        {\\n          \"platform\": \"Website\",\\n          \"handle\": \"https://www.xxx.xxx/\"\\n        },\\n        {\\n          \"platform\": \"Email\",\\n          \"handle\": \"xxx@mcmaster.ca\"\\n        },\\n        {\\n          \"platform\": \"LinkedIn\",\\n          \"handle\": \"linkedin.com/in/xxxxx\"\\n        },\\n        {\\n          \"platform\": \"GitHub\",\\n          \"handle\": \"github.com/xxxxx\"\\n        },\\n        {\\n          \"platform\": \"Phone\",\\n          \"handle\": \"(XXX) XXX-XXXX\"\\n        }\\n      ]\\n    },\\n    \"highlights\": [],\\n    \"education\": [\\n      {\\n        \"institution\": \"McMaster University\",\\n        \"qualification\": \"B.Eng. in Computer Engineering (Co-op)\",\\n        \"location\": {\\n          \"city\": \"Hamilton\",\\n          \"country\": \"ca\"\\n        },\\n        \"courses\": [],\\n        \"duration\": {\\n          \"start\": {\\n            \"$date\": \"2023-09-04T00:00:00Z\"\\n          },\\n          \"end\": {\\n            \"$date\": \"2028-04-28T00:00:00Z\"\\n          }\\n        },\\n        \"description\": [\\n          \"CPGA: 3.95/4.00 – Dean’s Honor List\",\\n          \"Did computer engineereing\"\\n        ]\\n      }\\n    ],\\n    \"experiences\": [\\n      {\\n        \"location\": {\\n          \"city\": \"Hamilton\",\\n          \"country\": \"ca\"\\n        },\\n        \"title\": \"Programming Team Executive\",\\n        \"company\": \"McMaster Sumobot Club/Competition\",\\n        \"duration\": {\\n          \"start\": {\\n            \"$date\": \"2023-11-06T00:00:00Z\"\\n          },\\n          \"end\": {\\n            \"$date\": \"2024-11-07T00:00:00Z\"\\n          }\\n        },\\n        \"description\": [\\n          \"Robotics competition where teams design and build robots fight against each other\",\\n          \"Host programming workshops to teach and train teams in Arduino/C++ for robot development\",\\n          \"Build entire robot using CAD, 3D print, Arduino microcontrollers and code for combat\"\\n        ]\\n      },\\n      {\\n        \"location\": {\\n          \"city\": \"Markham\",\\n          \"country\": \"ca\"\\n        },\\n        \"title\": \"Lifeguard and Swimming Instructor\",\\n        \"company\": \"City of Markham\",\\n        \"duration\": {\\n          \"start\": {\\n            \"$date\": \"2022-08-08T00:00:00Z\"\\n          },\\n          \"end\": {\\n            \"$date\": \"2024-09-09T00:00:00Z\"\\n          }\\n        },\\n        \"description\": [\\n          \"Certified lifeguard and instructor with Standard First Aid Training and CPR Level C\",\\n          \"Responded quickly and effectively to water emergencies, providing first aid and initiating rescue procedures when necessary\",\\n          \"Conducted swim lessons for individuals of all ages and skill levels and implemented lesson plans tailored to the needs and abilities of each student\"\\n        ]\\n      },\\n      {\\n        \"location\": {\\n          \"city\": \"Markham\",\\n          \"country\": \"ca\"\\n        },\\n        \"title\": \"Bike Mechanic\",\\n        \"company\": \"Markham Cycles\",\\n        \"duration\": {\\n          \"start\": {\\n            \"$date\": \"2022-05-09T00:00:00Z\"\\n          },\\n          \"end\": {\\n            \"$date\": \"2023-09-04T00:00:00Z\"\\n          }\\n        },\\n        \"description\": [\\n          \"Experienced in servicing, assembling, and repairing any component on a diverse range of bikes\",\\n          \"Rust removal, mechanical/hydraulic disc/rim brake service, flat tire repair, wheel truing, crank/bottom bracket service, derailleur adjustment, headset service\",\\n          \"Experience working on steel, aluminum, and carbon framesets\"\\n        ]\\n      },\\n      {\\n        \"location\": {\\n          \"city\": \"Markham\",\\n          \"country\": \"ca\"\\n        },\\n        \"title\": \"Cashier and Merchandiser\",\\n        \"company\": \"Party City\",\\n        \"duration\": {\\n          \"start\": {\\n            \"$date\": \"2021-07-05T00:00:00Z\"\\n          },\\n          \"end\": {\\n            \"$date\": \"2021-11-08T00:00:00Z\"\\n          }\\n        },\\n        \"description\": [\\n          \"Processed hundreds of transactions for customer purchases and returns, as well as online orders or exchanges\",\\n          \"Provided customer service by fulfilling customer orders and answering questions in store and over the phone in a timely, efficient manner\"\\n        ]\\n      }\\n    ],\\n    \"projects\": [\\n      {\\n        \"title\": \"Personal Portfolio Website\",\\n        \"duration\": {\\n          \"start\": {\\n            \"$date\": \"2024-09-09T00:00:00Z\"\\n          },\\n          \"end\": {\\n            \"$date\": \"2024-09-09T00:00:00Z\"\\n          }\\n        },\\n        \"description\": [\\n          \"Developed a front-end web app displaying myself and my skill portfolio\",\\n          \"Built with HTML, CSS, Javascript\"\\n        ]\\n      },\\n      {\\n        \"title\": \"PlanetPal\",\\n        \"duration\": {\\n          \"start\": {\\n            \"$date\": \"2024-11-05T00:00:00Z\"\\n          },\\n          \"end\": {\\n            \"$date\": \"2024-11-05T00:00:00Z\"\\n          }\\n        },\\n        \"description\": [\\n          \"TerraHacks hackathon project - Personal waste management assistant web app.\",\\n          \"Tech stack used - HTML, CSS, Javascript, React, Node.js, GPT-3.5. Deployed to Vercel.\"\\n        ]\\n      },\\n      {\\n        \"title\": \"ATM Finder\",\\n        \"duration\": {\\n          \"start\": {\\n            \"$date\": \"2024-11-05T00:00:00Z\"\\n          },\\n          \"end\": {\\n            \"$date\": \"2024-11-05T00:00:00Z\"\\n          }\\n        },\\n        \"description\": [\\n          \"YRHacks hackathon project - Shows the nearest ATMs and other amenities on a map.\",\\n          \"Tech stack used - Javascript, HTML, CSS, React.\"\\n        ]\\n      },\\n      {\\n        \"title\": \"Cry of Fear on Arch Linux\",\\n        \"duration\": {\\n          \"start\": {\\n            \"$date\": \"2024-11-05T00:00:00Z\"\\n          },\\n          \"end\": {\\n            \"$date\": \"2024-11-05T00:00:00Z\"\\n          }\\n        },\\n        \"description\": [\\n          \"YouTube video project - Running Cry of Fear on Arch Linux through Proton.\"\\n        ]\\n      },\\n      {\\n        \"title\": \"Chroot using Live USB\",\\n        \"duration\": {\\n          \"start\": {\\n            \"$date\": \"2024-11-05T00:00:00Z\"\\n          },\\n          \"end\": {\\n            \"$date\": \"2024-11-05T00:00:00Z\"\\n          }\\n        },\\n        \"description\": [\\n          \"YouTube video project - Using Arch\\'s Chroot feature to fix bootloader and package issues through a live usb\"\\n        ]\\n      }\\n    ],\\n    \"extraCurriculars\": [],\\n    \"skills\": [\\n      {\\n        \"name\": \"C\",\\n        \"type\": \"Programming Languages\"\\n      },\\n      {\\n        \"name\": \"C++\",\\n        \"type\": \"Programming Languages\"\\n      },\\n      {\\n        \"name\": \"Python\",\\n        \"type\": \"Programming Languages\"\\n      },\\n      {\\n        \"name\": \"JS\",\\n        \"type\": \"Programming Languages\"\\n      },\\n      {\\n        \"name\": \"HTML5\",\\n        \"type\": \"Programming Languages\"\\n      },\\n      {\\n        \"name\": \"CSS\",\\n        \"type\": \"Programming Languages\"\\n      },\\n      {\\n        \"name\": \"Ardunio\",\\n        \"type\": \"Programming Languages\"\\n      },\\n      {\\n        \"name\": \"Matlab\",\\n        \"type\": \"Programming Languages\"\\n      },\\n      {\\n        \"name\": \"Verilog\",\\n        \"type\": \"Programming Languages\"\\n      },\\n      {\\n        \"name\": \"Microsoft Office\",\\n        \"type\": \"Tools\"\\n      },\\n      {\\n        \"name\": \"Github\",\\n        \"type\": \"Tools\"\\n      },\\n      {\\n        \"name\": \"VS Code\",\\n        \"type\": \"Tools\"\\n      },\\n      {\\n        \"name\": \"Autodesk Inventor (CAD)\",\\n        \"type\": \"Tools\"\\n      },\\n      {\\n        \"name\": \"Granta\",\\n        \"type\": \"Tools\"\\n      },\\n      {\\n        \"name\": \"Davinci Resolve\",\\n        \"type\": \"Tools\"\\n      },\\n      {\\n        \"name\": \"Adobe Premier Pro\",\\n        \"type\": \"Tools\"\\n      },\\n      {\\n        \"name\": \"Audacity\",\\n        \"type\": \"Tools\"\\n      },\\n      {\\n        \"name\": \"Soccer\",\\n        \"type\": \"Hobbies\"\\n      },\\n      {\\n        \"name\": \"Skiing\",\\n        \"type\": \"Hobbies\"\\n      },\\n      {\\n        \"name\": \"Cycling\",\\n        \"type\": \"Hobbies\"\\n      },\\n      {\\n        \"name\": \"Running\",\\n        \"type\": \"Hobbies\"\\n      },\\n      {\\n        \"name\": \"3D Printers\",\\n        \"type\": \"Hobbies\"\\n      },\\n      {\\n        \"name\": \"Cloud Computing\",\\n        \"type\": \"Hobbies\"\\n      },\\n      {\\n        \"name\": \"Finance\",\\n        \"type\": \"Hobbies\"\\n      }\\n    ],\\n    \"awards\": [],\\n    \"hobbies\": []\\n  },\\n  \"job\": {\\n    \"title\": \"Hardware Engineer Intern\",\\n    \"company\": \"Google\",\\n    \"duration\": {\\n      \"start\": {\\n        \"$date\": \"2024-11-06T00:00:00Z\"\\n      },\\n      \"end\": {\\n        \"$date\": \"2024-11-14T00:00:00Z\"\\n      }\\n    },\\n    \"description\": \"Minimum qualifications: Currently pursuing a Bachelor\\'s or Master\\'s degree in Mechanical Engineering, Computer Engineering, Computer Science, or a related technical field. Experience in Hardware System Integration, Signal and Power Integrity, System Validation, Wireless Communications, Product Design, Computer Architecture, Digital Design Verification, Digital Circuits, ASIC Physical Design, FPGAs, Embedded Systems, or Memory Systems. Preferred qualifications: Currently attending a degree program in the US and available to work full time for 12 weeks outside of university term time. In their penultimate academic year or returning to a degree program after completion of the internship. Experience working on consumer hardware projects. Experience with board layout (e.g., working with CAD/PCB design), Systems Integration, RF, Hardware Test, or Antenna. Experience with wireless communication interfaces and sensors. About the job: As a Hardware Engineering Intern, you will work on our core Consumer Hardware products. The teams you work with design, develop, and deploy next generation consumer hardware while ensuring that this equipment is reliable. You’ll work closely with engineers to improve our hardware to meet Google\\'s standards of quality and reliability, and your work has the potential to impact many of Google users.Google is and always will be an engineering company. We hire people with a broad set of technical skills who are ready to address some of technology\\'s greatest challenges and make an impact on millions, if not billions, of users. At Google, engineers not only revolutionize search, they routinely work on massive scalability and storage solutions, large-scale applications and entirely new platforms for developers around the world. From Google Ads to Chrome, Android to YouTube, Social to Local, Google engineers are changing the world one technological achievement after another.The US base salary range for this full-time position is $81,000-$106,000. Our salary ranges are determined by role, level, and location. The range displayed on each job posting reflects the minimum and maximum target salaries for the position across all US locations. Within the range, individual pay is determined by work location and additional factors, including job-related skills, experience, and relevant education or training. Your recruiter can share more about the specific salary range for your preferred location during the hiring process.\"\\n  },\\n}'"
      ]
     },
     "execution_count": 15,
     "metadata": {},
     "output_type": "execute_result"
    }
   ],
   "source": [
    "with open(\"sample_data/test_resume.json\", \"r\") as f:\n",
    "    test_resume = f.read()\n",
    "test_resume"
   ]
  },
  {
   "cell_type": "code",
   "execution_count": 16,
   "metadata": {
    "colab": {
     "base_uri": "https://localhost:8080/"
    },
    "id": "boiIEMJjbPR3",
    "outputId": "3594da1f-f8d3-4d1c-d673-bd798dccbcbb"
   },
   "outputs": [
    {
     "data": {
      "text/plain": [
       "Report(score=7, pros=['The resume is well-organized and easy to read.', 'The contact information is comprehensive, including relevant online profiles.', 'The resume includes a variety of experiences, demonstrating a diverse skill set.', 'The skills section lists several programming languages and tools relevant to hardware engineering.'], cons=['The resume lacks quantifiable achievements. For example, instead of saying \"Responded quickly and effectively to water emergencies\", quantify the number of emergencies handled or the success rate of rescues.', 'The projects section lists several hackathon projects and YouTube video projects. While these demonstrate initiative, they might not be as impactful as more substantial projects. Consider adding more complex projects or elaborating on the existing ones with more technical details and quantifiable results.', 'Some skills listed under \"Hobbies\" (3D Printers, Cloud Computing, Finance) are better suited under \"Skills\" or \"Projects\" if you have relevant experience to showcase.', 'The resume does not have any awards listed. If you have any academic awards or other achievements, include them to strengthen your profile.'], improvements=['Quantify your accomplishments whenever possible. For example, mention the number of people you trained as a Programming Team Executive, the number of swim lessons you conducted, or the percentage improvement in bike performance after your repairs.', 'Expand on your projects with more technical details, quantifiable results, and the impact they had. For example, for the PlanetPal project, mention the number of users or the amount of waste reduction achieved.', 'Move skills listed under \"Hobbies\" that are relevant to the job description to the \"Skills\" section. Provide a brief description of your proficiency level for each skill.', 'If applicable, quantify your CGPA to provide context, such as \"CPGA: 3.95/4.00 (Top 5% of class)\".'])"
      ]
     },
     "execution_count": 16,
     "metadata": {},
     "output_type": "execute_result"
    }
   ],
   "source": [
    "structured_llm = llm.with_structured_output(Report)\n",
    "\n",
    "# get the test resume from file\n",
    "structured_llm.invoke(chat_template.format_prompt(input=test_resume).to_messages())\n"
   ]
  }
 ],
 "metadata": {
  "colab": {
   "collapsed_sections": [
    "AseSJWqnP-uh",
    "kTLYkYrAaMUQ"
   ],
   "provenance": []
  },
  "kernelspec": {
   "display_name": "Python 3",
   "name": "python3"
  },
  "language_info": {
   "name": "python"
  }
 },
 "nbformat": 4,
 "nbformat_minor": 0
}
